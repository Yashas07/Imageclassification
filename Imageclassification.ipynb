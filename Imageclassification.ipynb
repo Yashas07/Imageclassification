{
  "nbformat": 4,
  "nbformat_minor": 0,
  "metadata": {
    "colab": {
      "name": "Imageclassification.ipynb",
      "provenance": [],
      "collapsed_sections": [],
      "mount_file_id": "19zAG7bri4b9-vOu6BOlUQoj1X6Nn2S6a",
      "authorship_tag": "ABX9TyN5C8/OCFPIZ8CoURNsoh41",
      "include_colab_link": true
    },
    "kernelspec": {
      "name": "python3",
      "display_name": "Python 3"
    },
    "language_info": {
      "name": "python"
    },
    "accelerator": "GPU"
  },
  "cells": [
    {
      "cell_type": "markdown",
      "metadata": {
        "id": "view-in-github",
        "colab_type": "text"
      },
      "source": [
        "<a href=\"https://colab.research.google.com/github/Yashas07/Imageclassification/blob/main/Imageclassification.ipynb\" target=\"_parent\"><img src=\"https://colab.research.google.com/assets/colab-badge.svg\" alt=\"Open In Colab\"/></a>"
      ]
    },
    {
      "cell_type": "code",
      "metadata": {
        "id": "k3kXiQp_DBsN",
        "colab": {
          "base_uri": "https://localhost:8080/"
        },
        "outputId": "22108739-16ef-4b88-ba8a-5fb3c5c78b65"
      },
      "source": [
        "import matplotlib.pyplot as plt\n",
        "import numpy as np\n",
        "import tensorflow\n",
        "from tensorflow.keras.layers import Conv2D, MaxPooling2D, Dropout, Flatten, Activation, Dense\n",
        "import cv2\n",
        "from tensorflow.keras.optimizers import Adam, SGD\n",
        "from tensorflow.keras.datasets import mnist,cifar10\n",
        "from tensorflow.keras.preprocessing.image import ImageDataGenerator\n",
        "from tensorflow.keras.models import Sequential\n",
        "from keras.utils import np_utils\n",
        "\n",
        "(x_train, y_train), (x_test, y_test) = cifar10.load_data()\n",
        "\n",
        "# x_train = tensorflow.keras.utils.normalize(x_train,axis=1)\n",
        "# x_test = tensorflow.keras.utils.normalize(x_test,axis=1)\n",
        "y_train=np_utils.to_categorical(y_train)\n",
        "y_test=np_utils.to_categorical(y_test)\n",
        " \n",
        "num_classes=y_test.shape[1]\n",
        "\n",
        "print(x_train.shape)\n",
        "\n",
        "model = Sequential()\n",
        "\n",
        "model.add(Conv2D(64,(3,3),input_shape=(32,32,3)))\n",
        "model.add(Activation(\"relu\"))\n",
        "model.add(MaxPooling2D(2,2))\n",
        "model.add(Dropout(0.25))\n",
        "model.add(Conv2D(128,(3,3),input_shape=(32,32,3)))\n",
        "model.add(Activation(\"relu\"))\n",
        "model.add(MaxPooling2D(2,2))\n",
        "model.add(Dropout(0.25))\n",
        "model.add(Conv2D(128,(3,3),input_shape=(32,32,3)))\n",
        "model.add(Activation(\"relu\"))\n",
        "model.add(MaxPooling2D(2,2))\n",
        "model.add(Dropout(0.25))\n",
        "model.add(Flatten())\n",
        "model.add(Dense(128,activation=\"relu\"))\n",
        "model.add(Dense(128,activation=\"relu\"))\n",
        "model.add(Dense(10,activation=\"softmax\"))\n",
        "\n",
        "model.compile(loss=\"categorical_crossentropy\",optimizer=\"adam\",metrics=['accuracy'])\n",
        "\n",
        "# model.fit(x_train, y_train,epochs=15,batch_size=32)\n",
        "model.fit(x_train, y_train,\n",
        "    validation_data=(x_test,y_test),\n",
        "    epochs=15,batch_size=32)\n",
        "\n",
        "# model.evaluate(np.array(x_test))\n",
        "\n",
        "# print(x_train.shape)\n",
        "\n",
        "\n",
        "\n",
        "\n",
        "\n"
      ],
      "execution_count": null,
      "outputs": [
        {
          "output_type": "stream",
          "text": [
            "Downloading data from https://www.cs.toronto.edu/~kriz/cifar-10-python.tar.gz\n",
            "170500096/170498071 [==============================] - 4s 0us/step\n",
            "(50000, 32, 32, 3)\n",
            "Epoch 1/15\n",
            "1563/1563 [==============================] - 40s 5ms/step - loss: 2.8440 - accuracy: 0.2702 - val_loss: 1.4459 - val_accuracy: 0.4829\n",
            "Epoch 2/15\n",
            "1563/1563 [==============================] - 7s 5ms/step - loss: 1.5087 - accuracy: 0.4550 - val_loss: 1.3394 - val_accuracy: 0.5368\n",
            "Epoch 3/15\n",
            "1563/1563 [==============================] - 7s 5ms/step - loss: 1.3820 - accuracy: 0.5031 - val_loss: 1.2568 - val_accuracy: 0.5691\n",
            "Epoch 4/15\n",
            "1563/1563 [==============================] - 7s 5ms/step - loss: 1.2844 - accuracy: 0.5444 - val_loss: 1.2956 - val_accuracy: 0.5530\n",
            "Epoch 5/15\n",
            "1563/1563 [==============================] - 7s 5ms/step - loss: 1.2173 - accuracy: 0.5730 - val_loss: 1.0885 - val_accuracy: 0.6352\n",
            "Epoch 6/15\n",
            "1563/1563 [==============================] - 7s 5ms/step - loss: 1.1542 - accuracy: 0.5954 - val_loss: 1.0476 - val_accuracy: 0.6471\n",
            "Epoch 7/15\n",
            "1563/1563 [==============================] - 7s 5ms/step - loss: 1.1001 - accuracy: 0.6192 - val_loss: 1.0120 - val_accuracy: 0.6503\n",
            "Epoch 8/15\n",
            "1563/1563 [==============================] - 7s 5ms/step - loss: 1.0654 - accuracy: 0.6317 - val_loss: 0.9959 - val_accuracy: 0.6623\n",
            "Epoch 9/15\n",
            "1563/1563 [==============================] - 7s 5ms/step - loss: 1.0239 - accuracy: 0.6468 - val_loss: 0.9806 - val_accuracy: 0.6682\n",
            "Epoch 10/15\n",
            "1563/1563 [==============================] - 7s 5ms/step - loss: 1.0068 - accuracy: 0.6541 - val_loss: 1.0017 - val_accuracy: 0.6691\n",
            "Epoch 11/15\n",
            "1563/1563 [==============================] - 7s 5ms/step - loss: 0.9764 - accuracy: 0.6665 - val_loss: 0.9252 - val_accuracy: 0.6995\n",
            "Epoch 12/15\n",
            "1563/1563 [==============================] - 7s 5ms/step - loss: 0.9685 - accuracy: 0.6698 - val_loss: 0.9267 - val_accuracy: 0.6892\n",
            "Epoch 13/15\n",
            "1563/1563 [==============================] - 7s 5ms/step - loss: 0.9440 - accuracy: 0.6795 - val_loss: 0.8793 - val_accuracy: 0.7121\n",
            "Epoch 14/15\n",
            "1563/1563 [==============================] - 7s 5ms/step - loss: 0.9203 - accuracy: 0.6863 - val_loss: 0.8429 - val_accuracy: 0.7236\n",
            "Epoch 15/15\n",
            "1563/1563 [==============================] - 7s 5ms/step - loss: 0.9075 - accuracy: 0.6894 - val_loss: 0.8447 - val_accuracy: 0.7223\n"
          ],
          "name": "stdout"
        },
        {
          "output_type": "execute_result",
          "data": {
            "text/plain": [
              "<tensorflow.python.keras.callbacks.History at 0x7f29903b4890>"
            ]
          },
          "metadata": {
            "tags": []
          },
          "execution_count": 2
        }
      ]
    },
    {
      "cell_type": "code",
      "metadata": {
        "colab": {
          "base_uri": "https://localhost:8080/"
        },
        "id": "3SdPHe4mdjAV",
        "outputId": "bf27636a-c6e9-4190-9bd7-fd31dd77c667"
      },
      "source": [
        "(val_loss,val_acc) = model.evaluate(x_test,y_test)"
      ],
      "execution_count": null,
      "outputs": [
        {
          "output_type": "stream",
          "text": [
            "313/313 [==============================] - 1s 3ms/step - loss: 0.8895 - accuracy: 0.7131\n"
          ],
          "name": "stdout"
        }
      ]
    },
    {
      "cell_type": "code",
      "metadata": {
        "colab": {
          "base_uri": "https://localhost:8080/"
        },
        "id": "Lwf2_v0nfOfw",
        "outputId": "a960c6ff-e420-4692-88c1-9da49ca3c6f4"
      },
      "source": [
        "results={\n",
        "   0:'aeroplane',\n",
        "   1:'automobile',\n",
        "   2:'bird',\n",
        "   3:'cat',\n",
        "   4:'deer',\n",
        "   5:'dog',\n",
        "   6:'frog',\n",
        "   7:'horse',\n",
        "   8:'ship',\n",
        "   9:'truck'\n",
        "}\n",
        "from PIL import Image\n",
        "import numpy as np\n",
        "im=Image.open(\"/content/drive/MyDrive/deer.jpg\")\n",
        "# the input image is required to be in the shape of dataset, i.e (32,32,3)\n",
        " \n",
        "im=im.resize((32,32))\n",
        "\n",
        "im=np.expand_dims(im,axis=0)\n",
        "im=np.array(im)\n",
        "print(im.shape)\n",
        "pred=np.argmax(model.predict([im]))\n",
        "print(pred,results[pred])"
      ],
      "execution_count": null,
      "outputs": [
        {
          "output_type": "stream",
          "text": [
            "(1, 32, 32, 3)\n",
            "4 deer\n"
          ],
          "name": "stdout"
        }
      ]
    }
  ]
}